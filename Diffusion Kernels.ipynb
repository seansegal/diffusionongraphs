{
 "cells": [
  {
   "cell_type": "code",
   "execution_count": 7,
   "metadata": {
    "collapsed": true
   },
   "outputs": [],
   "source": [
    "# Imports\n",
    "%matplotlib inline\n",
    "import matplotlib.pyplot as plt\n",
    "import numpy as np\n",
    "import networkx as nx\n",
    "import time\n",
    "import scipy\n",
    "from __future__ import print_function\n",
    "from ipywidgets import interact, interactive, fixed, interact_manual\n",
    "import ipywidgets as widgets"
   ]
  },
  {
   "cell_type": "code",
   "execution_count": 145,
   "metadata": {
    "collapsed": true
   },
   "outputs": [],
   "source": [
    "# Functions for graphs we would like to visualize. We do this since each graph may need to be visualized differently.\n",
    "\n",
    "def get_complete_graph(n):\n",
    "    G = nx.complete_graph(n)\n",
    "    return G, nx.drawing.spring_layout(G)\n",
    "\n",
    "def get_barbell_graph(n):\n",
    "    G = nx.barbell_graph(n, 0)\n",
    "    return G, nx.drawing.spring_layout(G, iterations=100)\n",
    "\n",
    "def get_2d_graph(n):\n",
    "    G = nx.grid_2d_graph(n, n)\n",
    "    return G, nx.drawing.spring_layout(G, iterations=100)\n"
   ]
  },
  {
   "cell_type": "code",
   "execution_count": null,
   "metadata": {
    "collapsed": true
   },
   "outputs": [],
   "source": [
    "# Diffusion on the c\n",
    "G, layout = get_barbell_graph(5)\n",
    "lap = nx.laplacian_matrix(G).toarray()\n",
    "def visualize_diffusion_kernel(beta):\n",
    "    kernel = scipy.linalg.expm(lap*beta)\n",
    "    nx.draw(G, pos=layout, node_color=kernel[0, :], cmap='hot', vmin=-100, vmax=100)\n",
    "    plt.show()\n",
    "    \n",
    "interact(visualize_diffusion_kernel, beta=(-2.0, 5.0))"
   ]
  },
  {
   "cell_type": "code",
   "execution_count": 154,
   "metadata": {
    "collapsed": false
   },
   "outputs": [
    {
     "data": {
      "image/png": "[encoded data removed]",
      "text/plain": [
       "<matplotlib.figure.Figure at 0x1523303748>"
      ]
     },
     "metadata": {},
     "output_type": "display_data"
    }
   ],
   "source": [
    "# Diffusion on barbell (dumbbell) graph\n",
    "G, layout = get_barbell_graph(5)\n",
    "lap = nx.laplacian_matrix(G).toarray()\n",
    "def visualize_diffusion_kernel(beta):\n",
    "    kernel = scipy.linalg.expm(lap*beta)\n",
    "    nx.draw(G, pos=layout, node_color=kernel[0, :], cmap='hot', vmin=-100, vmax=100)\n",
    "    plt.show()\n",
    "    \n",
    "interact(visualize_diffusion_kernel, beta=(-2.0, 5.0))"
   ]
  },
  {
   "cell_type": "code",
   "execution_count": 136,
   "metadata": {
    "collapsed": false
   },
   "outputs": [
    {
     "name": "stdout",
     "output_type": "stream",
     "text": [
      "[1. 0. 0. 0. 0. 0. 0. 0. 0. 0. 0. 0. 0. 0. 0. 0. 0. 0. 0. 0. 0. 0. 0. 0.\n",
      " 0. 0. 0. 0. 0. 0. 0. 0. 0. 0. 0. 0. 0. 0. 0. 0. 0. 0. 0. 0. 0. 0. 0. 0.\n",
      " 0. 0. 0. 0. 0. 0. 0. 0. 0. 0. 0. 0. 0. 0. 0. 0. 0. 0. 0. 0. 0. 0. 0. 0.\n",
      " 0. 0. 0. 0. 0. 0. 0. 0. 0. 0. 0. 0. 0. 0. 0. 0. 0. 0. 0. 0. 0. 0. 0. 0.\n",
      " 0. 0. 0. 0.]\n",
      "[50. 25.  0.  0.  0.  0.  0.  0.  0.  0. 25.  0.  0.  0.  0.  0.  0.  0.\n",
      "  0.  0.  0.  0.  0.  0.  0.  0.  0.  0.  0.  0.  0.  0.  0.  0.  0.  0.\n",
      "  0.  0.  0.  0.  0.  0.  0.  0.  0.  0.  0.  0.  0.  0.  0.  0.  0.  0.\n",
      "  0.  0.  0.  0.  0.  0.  0.  0.  0.  0.  0.  0.  0.  0.  0.  0.  0.  0.\n",
      "  0.  0.  0.  0.  0.  0.  0.  0.  0.  0.  0.  0.  0.  0.  0.  0.  0.  0.\n",
      "  0.  0.  0.  0.  0.  0.  0.  0.  0.  0.]\n"
     ]
    }
   ],
   "source": [
    "# Random Walk\n",
    "def lazy_random_walk_step(p, G):\n",
    "    '''\n",
    "        Given a dist p, take one step of the lazy RW.\n",
    "        p = \n",
    "    '''\n",
    "\n",
    "    n = len(G.nodes())\n",
    "    A = nx.adjacency_matrix(G).toarray()\n",
    "    D = nx.laplacian_matrix(G).toarray() + A\n",
    "    # Lazy Random Walk Matrix\n",
    "    W = 0.5*(np.eye(n) + np.dot(A,  np.linalg.inv(D)))\n",
    "    return np.dot(W, p)\n",
    "\n",
    "p = np.zeros(len(G.nodes()), dtype=np.float32)\n",
    "p[0] = 1.0\n",
    "print(p)\n",
    "p = lazy_random_walk_step(p, G)\n",
    "print(p*100)\n",
    "\n"
   ]
  },
  {
   "cell_type": "code",
   "execution_count": null,
   "metadata": {
    "collapsed": true
   },
   "outputs": [],
   "source": []
  }
 ],
 "metadata": {
  "kernelspec": {
   "display_name": "Python 3",
   "language": "python",
   "name": "python3"
  },
  "language_info": {
   "codemirror_mode": {
    "name": "ipython",
    "version": 3
   },
   "file_extension": ".py",
   "mimetype": "text/x-python",
   "name": "python",
   "nbconvert_exporter": "python",
   "pygments_lexer": "ipython3",
   "version": "3.6.0"
  },
  "widgets": {
   "state": {
    "3ccd0408b2464549b550d041aae372e8": {
     "views": [
      {
       "cell_index": 2
      }
     ]
    }
   },
   "version": "1.2.0"
  }
 },
 "nbformat": 4,
 "nbformat_minor": 2
}
